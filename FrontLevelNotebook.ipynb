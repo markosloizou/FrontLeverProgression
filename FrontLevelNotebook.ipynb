{
 "cells": [
  {
   "cell_type": "code",
   "execution_count": 1,
   "metadata": {},
   "outputs": [],
   "source": [
    "import numpy as np\n",
    "import matplotlib.pyplot as plt\n",
    "import pandas as pd\n",
    "\n",
    "df = pd.read_csv(\"./Data/frinksMovementSurvery.csv\")"
   ]
  },
  {
   "cell_type": "code",
   "execution_count": 2,
   "metadata": {},
   "outputs": [
    {
     "data": {
      "text/html": [
       "<div>\n",
       "<style scoped>\n",
       "    .dataframe tbody tr th:only-of-type {\n",
       "        vertical-align: middle;\n",
       "    }\n",
       "\n",
       "    .dataframe tbody tr th {\n",
       "        vertical-align: top;\n",
       "    }\n",
       "\n",
       "    .dataframe thead th {\n",
       "        text-align: right;\n",
       "    }\n",
       "</style>\n",
       "<table border=\"1\" class=\"dataframe\">\n",
       "  <thead>\n",
       "    <tr style=\"text-align: right;\">\n",
       "      <th></th>\n",
       "      <th>Timestamp</th>\n",
       "      <th>Weighted Pullup 1RM (% of BW)</th>\n",
       "      <th>Max Front Lever progression (3 seconds good form)</th>\n",
       "      <th>Other thoughts or comments? Helpful data</th>\n",
       "      <th>Bodyweight (kg)</th>\n",
       "      <th>Max pullups (endurance)</th>\n",
       "      <th>Height (cm)</th>\n",
       "    </tr>\n",
       "  </thead>\n",
       "  <tbody>\n",
       "    <tr>\n",
       "      <th>0</th>\n",
       "      <td>10/7/2020 0:41:37</td>\n",
       "      <td>&lt;10% (so usually couple of pullups with BW)</td>\n",
       "      <td>Straddle lever</td>\n",
       "      <td>NaN</td>\n",
       "      <td>59.8</td>\n",
       "      <td>20.0</td>\n",
       "      <td>1.65</td>\n",
       "    </tr>\n",
       "    <tr>\n",
       "      <th>1</th>\n",
       "      <td>10/6/2020 20:38:42</td>\n",
       "      <td>65%-80%</td>\n",
       "      <td>Full lever</td>\n",
       "      <td>NaN</td>\n",
       "      <td>72.0</td>\n",
       "      <td>21.0</td>\n",
       "      <td>1.78</td>\n",
       "    </tr>\n",
       "    <tr>\n",
       "      <th>2</th>\n",
       "      <td>10/7/2020 1:41:25</td>\n",
       "      <td>50%-65%</td>\n",
       "      <td>Straddle Halflay lever</td>\n",
       "      <td>I have 50% weighted pull up and barely 3 secon...</td>\n",
       "      <td>68.0</td>\n",
       "      <td>17.0</td>\n",
       "      <td>69</td>\n",
       "    </tr>\n",
       "    <tr>\n",
       "      <th>3</th>\n",
       "      <td>10/6/2020 19:50:48</td>\n",
       "      <td>50%-65%</td>\n",
       "      <td>Straddle lever</td>\n",
       "      <td>NaN</td>\n",
       "      <td>62.0</td>\n",
       "      <td>20.0</td>\n",
       "      <td>142</td>\n",
       "    </tr>\n",
       "    <tr>\n",
       "      <th>4</th>\n",
       "      <td>10/6/2020 20:10:42</td>\n",
       "      <td>30%-50%</td>\n",
       "      <td>Full lever</td>\n",
       "      <td>NaN</td>\n",
       "      <td>45.0</td>\n",
       "      <td>20.0</td>\n",
       "      <td>160</td>\n",
       "    </tr>\n",
       "  </tbody>\n",
       "</table>\n",
       "</div>"
      ],
      "text/plain": [
       "            Timestamp                Weighted Pullup 1RM (% of BW)  \\\n",
       "0   10/7/2020 0:41:37  <10% (so usually couple of pullups with BW)   \n",
       "1  10/6/2020 20:38:42                                      65%-80%   \n",
       "2   10/7/2020 1:41:25                                      50%-65%   \n",
       "3  10/6/2020 19:50:48                                      50%-65%   \n",
       "4  10/6/2020 20:10:42                                      30%-50%   \n",
       "\n",
       "  Max Front Lever progression (3 seconds good form)  \\\n",
       "0                                    Straddle lever   \n",
       "1                                        Full lever   \n",
       "2                            Straddle Halflay lever   \n",
       "3                                    Straddle lever   \n",
       "4                                        Full lever   \n",
       "\n",
       "            Other thoughts or comments? Helpful data  Bodyweight (kg)  \\\n",
       "0                                                NaN             59.8   \n",
       "1                                                NaN             72.0   \n",
       "2  I have 50% weighted pull up and barely 3 secon...             68.0   \n",
       "3                                                NaN             62.0   \n",
       "4                                                NaN             45.0   \n",
       "\n",
       "   Max pullups (endurance) Height (cm)  \n",
       "0                     20.0        1.65  \n",
       "1                     21.0        1.78  \n",
       "2                     17.0          69  \n",
       "3                     20.0         142  \n",
       "4                     20.0         160  "
      ]
     },
     "execution_count": 2,
     "metadata": {},
     "output_type": "execute_result"
    }
   ],
   "source": [
    "df.head()"
   ]
  },
  {
   "cell_type": "code",
   "execution_count": 3,
   "metadata": {},
   "outputs": [],
   "source": [
    "df.columns = ['time', 'pullup', 'FLprogression', 'comments', 'weight', 'Npullups', 'height']\n",
    "df = df.dropna(subset=['pullup', 'FLprogression', 'weight', 'Npullups', 'height'])"
   ]
  },
  {
   "cell_type": "code",
   "execution_count": 4,
   "metadata": {},
   "outputs": [
    {
     "data": {
      "text/html": [
       "<div>\n",
       "<style scoped>\n",
       "    .dataframe tbody tr th:only-of-type {\n",
       "        vertical-align: middle;\n",
       "    }\n",
       "\n",
       "    .dataframe tbody tr th {\n",
       "        vertical-align: top;\n",
       "    }\n",
       "\n",
       "    .dataframe thead th {\n",
       "        text-align: right;\n",
       "    }\n",
       "</style>\n",
       "<table border=\"1\" class=\"dataframe\">\n",
       "  <thead>\n",
       "    <tr style=\"text-align: right;\">\n",
       "      <th></th>\n",
       "      <th>time</th>\n",
       "      <th>pullup</th>\n",
       "      <th>FLprogression</th>\n",
       "      <th>comments</th>\n",
       "      <th>weight</th>\n",
       "      <th>Npullups</th>\n",
       "      <th>height</th>\n",
       "    </tr>\n",
       "  </thead>\n",
       "  <tbody>\n",
       "    <tr>\n",
       "      <th>0</th>\n",
       "      <td>10/7/2020 0:41:37</td>\n",
       "      <td>&lt;10% (so usually couple of pullups with BW)</td>\n",
       "      <td>Straddle lever</td>\n",
       "      <td>NaN</td>\n",
       "      <td>59.8</td>\n",
       "      <td>20.0</td>\n",
       "      <td>1.65</td>\n",
       "    </tr>\n",
       "    <tr>\n",
       "      <th>1</th>\n",
       "      <td>10/6/2020 20:38:42</td>\n",
       "      <td>65%-80%</td>\n",
       "      <td>Full lever</td>\n",
       "      <td>NaN</td>\n",
       "      <td>72.0</td>\n",
       "      <td>21.0</td>\n",
       "      <td>1.78</td>\n",
       "    </tr>\n",
       "    <tr>\n",
       "      <th>2</th>\n",
       "      <td>10/7/2020 1:41:25</td>\n",
       "      <td>50%-65%</td>\n",
       "      <td>Straddle Halflay lever</td>\n",
       "      <td>I have 50% weighted pull up and barely 3 secon...</td>\n",
       "      <td>68.0</td>\n",
       "      <td>17.0</td>\n",
       "      <td>69</td>\n",
       "    </tr>\n",
       "    <tr>\n",
       "      <th>3</th>\n",
       "      <td>10/6/2020 19:50:48</td>\n",
       "      <td>50%-65%</td>\n",
       "      <td>Straddle lever</td>\n",
       "      <td>NaN</td>\n",
       "      <td>62.0</td>\n",
       "      <td>20.0</td>\n",
       "      <td>142</td>\n",
       "    </tr>\n",
       "    <tr>\n",
       "      <th>4</th>\n",
       "      <td>10/6/2020 20:10:42</td>\n",
       "      <td>30%-50%</td>\n",
       "      <td>Full lever</td>\n",
       "      <td>NaN</td>\n",
       "      <td>45.0</td>\n",
       "      <td>20.0</td>\n",
       "      <td>160</td>\n",
       "    </tr>\n",
       "  </tbody>\n",
       "</table>\n",
       "</div>"
      ],
      "text/plain": [
       "                 time                                       pullup  \\\n",
       "0   10/7/2020 0:41:37  <10% (so usually couple of pullups with BW)   \n",
       "1  10/6/2020 20:38:42                                      65%-80%   \n",
       "2   10/7/2020 1:41:25                                      50%-65%   \n",
       "3  10/6/2020 19:50:48                                      50%-65%   \n",
       "4  10/6/2020 20:10:42                                      30%-50%   \n",
       "\n",
       "            FLprogression                                           comments  \\\n",
       "0          Straddle lever                                                NaN   \n",
       "1              Full lever                                                NaN   \n",
       "2  Straddle Halflay lever  I have 50% weighted pull up and barely 3 secon...   \n",
       "3          Straddle lever                                                NaN   \n",
       "4              Full lever                                                NaN   \n",
       "\n",
       "   weight  Npullups height  \n",
       "0    59.8      20.0   1.65  \n",
       "1    72.0      21.0   1.78  \n",
       "2    68.0      17.0     69  \n",
       "3    62.0      20.0    142  \n",
       "4    45.0      20.0    160  "
      ]
     },
     "execution_count": 4,
     "metadata": {},
     "output_type": "execute_result"
    }
   ],
   "source": [
    "df.head()"
   ]
  },
  {
   "cell_type": "code",
   "execution_count": 5,
   "metadata": {},
   "outputs": [],
   "source": [
    "def heightToCM(h_str):\n",
    "    ret_val = 0.0\n",
    "    h_str = str(h_str)\n",
    "    index1 = h_str.find('’')\n",
    "    index2 = h_str.find('\\'')\n",
    "    index = max(index1, index2)\n",
    "    if(index > -1):\n",
    "        feet = int(h_str[0:index])\n",
    "        inches = int(h_str[index+1:])\n",
    "        \n",
    "        ret_val = float(feet*12 + inches) *2.54\n",
    "    else:\n",
    "        ret_val = float(h_str.replace(',', '').replace('.', '').replace('m', '').replace('c','').replace(',',''))\n",
    "    if(ret_val < 2.3):\n",
    "        ret_val *= 100\n",
    "    if(ret_val < 90):\n",
    "        ret_val *= 2.54\n",
    "    return ret_val\n",
    "            \n",
    "df.height  = df.height.apply(heightToCM)"
   ]
  },
  {
   "cell_type": "code",
   "execution_count": 6,
   "metadata": {},
   "outputs": [],
   "source": [
    "def setWeightsToNan(x):\n",
    "    if (x<0):\n",
    "        return np.nan \n",
    "    elif (x>200):\n",
    "        return np.nan \n",
    "    return x\n",
    "\n",
    "df.weight\n",
    "df.weight = df.weight.apply(setWeightsToNan)"
   ]
  },
  {
   "cell_type": "code",
   "execution_count": 12,
   "metadata": {},
   "outputs": [
    {
     "data": {
      "text/html": [
       "<div>\n",
       "<style scoped>\n",
       "    .dataframe tbody tr th:only-of-type {\n",
       "        vertical-align: middle;\n",
       "    }\n",
       "\n",
       "    .dataframe tbody tr th {\n",
       "        vertical-align: top;\n",
       "    }\n",
       "\n",
       "    .dataframe thead th {\n",
       "        text-align: right;\n",
       "    }\n",
       "</style>\n",
       "<table border=\"1\" class=\"dataframe\">\n",
       "  <thead>\n",
       "    <tr style=\"text-align: right;\">\n",
       "      <th></th>\n",
       "      <th>pullup</th>\n",
       "      <th>FLprogression</th>\n",
       "      <th>weight</th>\n",
       "      <th>Npullups</th>\n",
       "      <th>height</th>\n",
       "    </tr>\n",
       "  </thead>\n",
       "  <tbody>\n",
       "    <tr>\n",
       "      <th>0</th>\n",
       "      <td>&lt;10% (so usually couple of pullups with BW)</td>\n",
       "      <td>Straddle lever</td>\n",
       "      <td>59.8</td>\n",
       "      <td>20.0</td>\n",
       "      <td>165.00</td>\n",
       "    </tr>\n",
       "    <tr>\n",
       "      <th>1</th>\n",
       "      <td>65%-80%</td>\n",
       "      <td>Full lever</td>\n",
       "      <td>72.0</td>\n",
       "      <td>21.0</td>\n",
       "      <td>178.00</td>\n",
       "    </tr>\n",
       "    <tr>\n",
       "      <th>2</th>\n",
       "      <td>50%-65%</td>\n",
       "      <td>Straddle Halflay lever</td>\n",
       "      <td>68.0</td>\n",
       "      <td>17.0</td>\n",
       "      <td>175.26</td>\n",
       "    </tr>\n",
       "    <tr>\n",
       "      <th>3</th>\n",
       "      <td>50%-65%</td>\n",
       "      <td>Straddle lever</td>\n",
       "      <td>62.0</td>\n",
       "      <td>20.0</td>\n",
       "      <td>142.00</td>\n",
       "    </tr>\n",
       "    <tr>\n",
       "      <th>4</th>\n",
       "      <td>30%-50%</td>\n",
       "      <td>Full lever</td>\n",
       "      <td>45.0</td>\n",
       "      <td>20.0</td>\n",
       "      <td>160.00</td>\n",
       "    </tr>\n",
       "  </tbody>\n",
       "</table>\n",
       "</div>"
      ],
      "text/plain": [
       "                                        pullup           FLprogression  \\\n",
       "0  <10% (so usually couple of pullups with BW)          Straddle lever   \n",
       "1                                      65%-80%              Full lever   \n",
       "2                                      50%-65%  Straddle Halflay lever   \n",
       "3                                      50%-65%          Straddle lever   \n",
       "4                                      30%-50%              Full lever   \n",
       "\n",
       "   weight  Npullups  height  \n",
       "0    59.8      20.0  165.00  \n",
       "1    72.0      21.0  178.00  \n",
       "2    68.0      17.0  175.26  \n",
       "3    62.0      20.0  142.00  \n",
       "4    45.0      20.0  160.00  "
      ]
     },
     "execution_count": 12,
     "metadata": {},
     "output_type": "execute_result"
    }
   ],
   "source": [
    "df_noComment = df.drop(columns=[\"comments\",\"time\"])\n",
    "df.to_csv(\"./Data/cleanedData.csv\")\n",
    "df_noComment.to_csv(\"./Data/cleanedDataNoComment.csv\")\n",
    "df_noComment.head()\n"
   ]
  },
  {
   "cell_type": "code",
   "execution_count": 7,
   "metadata": {},
   "outputs": [
    {
     "name": "stdout",
     "output_type": "stream",
     "text": [
      "204\n",
      "204\n"
     ]
    }
   ],
   "source": [
    "from sklearn.preprocessing import OrdinalEncoder\n",
    "\n",
    "progressionEnc = OrdinalEncoder()\n",
    "MaxPullUpEnc = OrdinalEncoder()\n",
    "\n",
    "FLProgressionTr = progressionEnc.fit_transform(df.FLprogression.values.reshape(-1,1))\n",
    "MaxPullupTr = MaxPullUpEnc.fit_transform(df.pullup.values.reshape(-1,1))\n",
    "\n",
    "print(len(FLProgressionTr))\n",
    "print(len(MaxPullupTr))"
   ]
  },
  {
   "cell_type": "code",
   "execution_count": 59,
   "metadata": {},
   "outputs": [],
   "source": [
    "from sklearn.preprocessing import StandardScaler\n",
    "\n",
    "\n",
    "Y = FLProgressionTr.astype(np.int16).ravel()\n",
    "X = np.concatenate((MaxPullupTr, \n",
    "                    df.height.values.reshape(-1,1),\n",
    "                    df.weight.values.reshape(-1,1),\n",
    "                    df.Npullups.values.reshape(-1,1)\n",
    "                   ),axis=1)\n",
    "\n",
    "Xscaler = StandardScaler()\n",
    "X_scaled = Xscaler.fit_transform(X)\n",
    "\n",
    "X_feature = ['Max Pull up', 'Height', 'Weight', 'N Pull Ups']\n",
    "X_train, X_test, y_train, y_test = train_test_split(X_scaled, Y, test_size=0.10, random_state=42)\n",
    "\n",
    "\n",
    "def barPlotImportance(importance):\n",
    "    plt.bar([X_feature[x] for x in range(len(importance))], importance)\n",
    "    plt.show()\n",
    "\n",
    "def printScore(score):\n",
    "    print('Score: %.3f' % score)\n",
    "    \n",
    "def fitModelAndMakePlots(model):\n",
    "    model.fit(X_train, y_train)\n",
    "\n",
    "    printScore(model.score(X_test, y_test))\n",
    "    barPlotImportance(model.feature_importances_)\n",
    "\n",
    "def interpretImportance(results):\n",
    "    importance = results.importances_mean\n",
    "    barPlotImportance(model.feature_importances_)"
   ]
  },
  {
   "cell_type": "code",
   "execution_count": 51,
   "metadata": {},
   "outputs": [
    {
     "name": "stdout",
     "output_type": "stream",
     "text": [
      "Score: 0.42857\n"
     ]
    },
    {
     "data": {
      "image/png": "[encoded data removed]",
      "text/plain": [
       "<Figure size 432x288 with 1 Axes>"
      ]
     },
     "metadata": {
      "needs_background": "light"
     },
     "output_type": "display_data"
    }
   ],
   "source": [
    "from sklearn.linear_model import LogisticRegression\n",
    "\n",
    "clf = LogisticRegression(random_state=0, multi_class='multinomial', solver='lbfgs').fit(X_train, y_train)\n",
    "printScore(clf.score(X_test, y_test))\n",
    "\n",
    "\n",
    "barPlotImportance(clf.coef_[0])"
   ]
  },
  {
   "cell_type": "markdown",
   "metadata": {},
   "source": [
    "### Linear Regression"
   ]
  },
  {
   "cell_type": "code",
   "execution_count": 53,
   "metadata": {},
   "outputs": [
    {
     "name": "stdout",
     "output_type": "stream",
     "text": [
      "Score: -0.04722\n"
     ]
    },
    {
     "data": {
      "image/png": "[encoded data removed]",
      "text/plain": [
       "<Figure size 432x288 with 1 Axes>"
      ]
     },
     "metadata": {
      "needs_background": "light"
     },
     "output_type": "display_data"
    }
   ],
   "source": [
    "from sklearn.linear_model import LinearRegression\n",
    "\n",
    "model = LinearRegression()\n",
    "# fit the model\n",
    "model.fit(X_train, y_train)\n",
    "# get importance\n",
    "importance = model.coef_\n",
    "# summarize feature importance\n",
    "printScore(model.score(X_test, y_test))\n",
    "barPlotImportance(importance)"
   ]
  },
  {
   "cell_type": "markdown",
   "metadata": {},
   "source": [
    "### Decision Tree"
   ]
  },
  {
   "cell_type": "code",
   "execution_count": 44,
   "metadata": {},
   "outputs": [
    {
     "name": "stdout",
     "output_type": "stream",
     "text": [
      "-1.3408723747980615\n",
      "Score: -1.34087\n"
     ]
    },
    {
     "data": {
      "image/png": "[encoded data removed]",
      "text/plain": [
       "<Figure size 432x288 with 1 Axes>"
      ]
     },
     "metadata": {
      "needs_background": "light"
     },
     "output_type": "display_data"
    }
   ],
   "source": [
    "from sklearn.tree import DecisionTreeRegressor\n",
    "from sklearn.model_selection import train_test_split\n",
    "\n",
    "\n",
    "model = DecisionTreeRegressor()\n",
    "model.fit(X_train, y_train)\n",
    "\n",
    "printScore(model.score(X_test, y_test))\n",
    "barPlotImportance(model.feature_importances_)"
   ]
  },
  {
   "cell_type": "markdown",
   "metadata": {},
   "source": [
    "### Decision Tree Classifier"
   ]
  },
  {
   "cell_type": "code",
   "execution_count": 57,
   "metadata": {},
   "outputs": [
    {
     "name": "stdout",
     "output_type": "stream",
     "text": [
      "Score: 0.333\n"
     ]
    },
    {
     "data": {
      "image/png": "[encoded data removed]",
      "text/plain": [
       "<Figure size 432x288 with 1 Axes>"
      ]
     },
     "metadata": {
      "needs_background": "light"
     },
     "output_type": "display_data"
    }
   ],
   "source": [
    "from sklearn.tree import DecisionTreeClassifier\n",
    "\n",
    "fitModelAndMakePlots(DecisionTreeClassifier())"
   ]
  },
  {
   "cell_type": "markdown",
   "metadata": {},
   "source": [
    "### Random Forest Ensemble"
   ]
  },
  {
   "cell_type": "code",
   "execution_count": 54,
   "metadata": {},
   "outputs": [
    {
     "name": "stdout",
     "output_type": "stream",
     "text": [
      "Score: -0.00652\n"
     ]
    },
    {
     "data": {
      "image/png": "[encoded data removed]",
      "text/plain": [
       "<Figure size 432x288 with 1 Axes>"
      ]
     },
     "metadata": {
      "needs_background": "light"
     },
     "output_type": "display_data"
    }
   ],
   "source": [
    "from sklearn.ensemble import RandomForestRegressor\n",
    "\n",
    "model = RandomForestRegressor()\n",
    "model.fit(X_train, y_train)\n",
    "\n",
    "printScore(model.score(X_test, y_test))\n",
    "barPlotImportance(model.feature_importances_)"
   ]
  },
  {
   "cell_type": "markdown",
   "metadata": {},
   "source": [
    "### Random Forest Classifier"
   ]
  },
  {
   "cell_type": "code",
   "execution_count": 56,
   "metadata": {},
   "outputs": [
    {
     "name": "stdout",
     "output_type": "stream",
     "text": [
      "Score: 0.476\n"
     ]
    },
    {
     "data": {
      "image/png": "[encoded data removed]",
      "text/plain": [
       "<Figure size 432x288 with 1 Axes>"
      ]
     },
     "metadata": {
      "needs_background": "light"
     },
     "output_type": "display_data"
    }
   ],
   "source": [
    "from sklearn.ensemble import RandomForestClassifier\n",
    "\n",
    "model = RandomForestClassifier()\n",
    "fitModelAndMakePlots(model)"
   ]
  },
  {
   "cell_type": "markdown",
   "metadata": {},
   "source": [
    "## Feature Importance using Lasso"
   ]
  },
  {
   "cell_type": "code",
   "execution_count": 74,
   "metadata": {},
   "outputs": [
    {
     "name": "stdout",
     "output_type": "stream",
     "text": [
      "Best alpha using built-in LassoCV: 41.376622\n",
      "Best score using built-in LassoCV: 0.000000\n",
      "Lasso picked 0 variables and eliminated the other 4 variables\n"
     ]
    },
    {
     "data": {
      "text/plain": [
       "Text(0.5, 1.0, 'Feature importance using Lasso Model')"
      ]
     },
     "execution_count": 74,
     "metadata": {},
     "output_type": "execute_result"
    },
    {
     "data": {
      "image/png": "[encoded data removed]",
      "text/plain": [
       "<Figure size 576x720 with 1 Axes>"
      ]
     },
     "metadata": {
      "needs_background": "light"
     },
     "output_type": "display_data"
    }
   ],
   "source": [
    "from sklearn.neighbors import KNeighborsRegressor\n",
    "from sklearn.neighbors import KNeighborsClassifier\n",
    "from sklearn.inspection import permutation_importance\n",
    "import matplotlib\n",
    "import statsmodels.api as sm\n",
    "%matplotlib inline\n",
    "from sklearn.feature_selection import RFE\n",
    "from sklearn.linear_model import RidgeCV, LassoCV, Ridge, Lasso#Loading the dataset\n",
    "\n",
    "reg = LassoCV()\n",
    "reg.fit(X_scaled, Y)\n",
    "print(\"Best alpha using built-in LassoCV: %f\" % reg.alpha_)\n",
    "print(\"Best score using built-in LassoCV: %f\" %reg.score(X_scaled,Y))\n",
    "coef = pd.Series(reg.coef_, index = X_feature)\n",
    "\n",
    "print(\"Lasso picked \" + str(sum(coef != 0)) + \" variables and eliminated the other \" +  str(sum(coef == 0)) + \" variables\")\n",
    "\n",
    "imp_coef = coef.sort_values()\n",
    "matplotlib.rcParams['figure.figsize'] = (8.0, 10.0)\n",
    "imp_coef.plot(kind = \"barh\")\n",
    "plt.title(\"Feature importance using Lasso Model\")"
   ]
  },
  {
   "cell_type": "markdown",
   "metadata": {},
   "source": [
    "### Neural Network"
   ]
  },
  {
   "cell_type": "code",
   "execution_count": 79,
   "metadata": {},
   "outputs": [
    {
     "name": "stdout",
     "output_type": "stream",
     "text": [
      "Score: 0.476\n"
     ]
    }
   ],
   "source": [
    "from sklearn.neural_network import MLPClassifier\n",
    "\n",
    "model = MLPClassifier(max_iter=1000, solver='sgd')\n",
    "model.fit(X_train, y_train)\n",
    "\n",
    "printScore(model.score(X_test, y_test))"
   ]
  }
 ],
 "metadata": {
  "kernelspec": {
   "display_name": "Python 3",
   "language": "python",
   "name": "python3"
  },
  "language_info": {
   "codemirror_mode": {
    "name": "ipython",
    "version": 3
   },
   "file_extension": ".py",
   "mimetype": "text/x-python",
   "name": "python",
   "nbconvert_exporter": "python",
   "pygments_lexer": "ipython3",
   "version": "3.6.12"
  }
 },
 "nbformat": 4,
 "nbformat_minor": 2
}
